{
 "cells": [
  {
   "cell_type": "code",
   "execution_count": 1,
   "metadata": {
    "scrolled": true
   },
   "outputs": [],
   "source": [
    "import pandas as pd\n",
    "alunos_df = pd.read_csv('alunos tp situação.csv', sep=';', encoding='latin1')"
   ]
  },
  {
   "cell_type": "code",
   "execution_count": 2,
   "metadata": {
    "scrolled": false
   },
   "outputs": [
    {
     "name": "stdout",
     "output_type": "stream",
     "text": [
      "<class 'pandas.core.frame.DataFrame'>\n",
      "RangeIndex: 12043993 entries, 0 to 12043992\n",
      "Data columns (total 24 columns):\n",
      " #   Column                          Dtype  \n",
      "---  ------                          -----  \n",
      " 0   Unnamed: 0                      int64  \n",
      " 1   CO_IES                          int64  \n",
      " 2   TP_CATEGORIA_ADMINISTRATIVA     int64  \n",
      " 3   TP_ORGANIZACAO_ACADEMICA        int64  \n",
      " 4   CO_CURSO                        int64  \n",
      " 5   CO_CURSO_POLO                   float64\n",
      " 6   TP_TURNO                        float64\n",
      " 7   TP_GRAU_ACADEMICO               float64\n",
      " 8   TP_MODALIDADE_ENSINO            int64  \n",
      " 9   TP_SITUACAO                     int64  \n",
      " 10  IN_INGRESSO_VESTIBULAR          int64  \n",
      " 11  IN_INGRESSO_ENEM                int64  \n",
      " 12  IN_FINANCIAMENTO_ESTUDANTIL     float64\n",
      " 13  IN_FIN_REEMB_FIES               float64\n",
      " 14  IN_FIN_REEMB_ESTADUAL           float64\n",
      " 15  IN_FIN_REEMB_MUNICIPAL          float64\n",
      " 16  IN_FIN_REEMB_PROG_IES           float64\n",
      " 17  IN_FIN_NAOREEMB_PROUNI_INTEGR   float64\n",
      " 18  IN_FIN_NAOREEMB_PROUNI_PARCIAL  float64\n",
      " 19  IN_FIN_NAOREEMB_ESTADUAL        float64\n",
      " 20  IN_FIN_NAOREEMB_MUNICIPAL       float64\n",
      " 21  IN_FIN_NAOREEMB_PROG_IES        float64\n",
      " 22  IN_COMPLEMENTAR_PESQUISA        float64\n",
      " 23  IN_BOLSA_PESQUISA               float64\n",
      "dtypes: float64(15), int64(9)\n",
      "memory usage: 2.2 GB\n"
     ]
    }
   ],
   "source": [
    "alunos_df.info()"
   ]
  },
  {
   "cell_type": "markdown",
   "metadata": {},
   "source": [
    "### Contando o número de alunos em cada IES e exportando para um csv:"
   ]
  },
  {
   "cell_type": "code",
   "execution_count": null,
   "metadata": {
    "scrolled": false
   },
   "outputs": [],
   "source": [
    "alunos_nIES = alunos_df['CO_IES'].value_counts()\n",
    "display(alunos_nIES)\n",
    "alunos_nIES.to_csv(r'C:\\Users\\jaff_\\Google Drive\\_Dissertação\\Dados Dissertação\\Python\\DM_ALUNO\\numero_alunos.csv', sep=';', encoding='latin1')"
   ]
  },
  {
   "cell_type": "markdown",
   "metadata": {},
   "source": [
    "### Separando apenas por cursos de GRADUAÇÃO PRESENCIAIS:"
   ]
  },
  {
   "cell_type": "code",
   "execution_count": 2,
   "metadata": {},
   "outputs": [
    {
     "data": {
      "text/html": [
       "<div>\n",
       "<style scoped>\n",
       "    .dataframe tbody tr th:only-of-type {\n",
       "        vertical-align: middle;\n",
       "    }\n",
       "\n",
       "    .dataframe tbody tr th {\n",
       "        vertical-align: top;\n",
       "    }\n",
       "\n",
       "    .dataframe thead th {\n",
       "        text-align: right;\n",
       "    }\n",
       "</style>\n",
       "<table border=\"1\" class=\"dataframe\">\n",
       "  <thead>\n",
       "    <tr style=\"text-align: right;\">\n",
       "      <th></th>\n",
       "      <th>Unnamed: 0</th>\n",
       "      <th>CO_IES</th>\n",
       "      <th>TP_CATEGORIA_ADMINISTRATIVA</th>\n",
       "      <th>TP_ORGANIZACAO_ACADEMICA</th>\n",
       "      <th>CO_CURSO</th>\n",
       "      <th>CO_CURSO_POLO</th>\n",
       "      <th>TP_TURNO</th>\n",
       "      <th>TP_GRAU_ACADEMICO</th>\n",
       "      <th>TP_MODALIDADE_ENSINO</th>\n",
       "      <th>TP_SITUACAO</th>\n",
       "      <th>...</th>\n",
       "      <th>IN_FIN_REEMB_ESTADUAL</th>\n",
       "      <th>IN_FIN_REEMB_MUNICIPAL</th>\n",
       "      <th>IN_FIN_REEMB_PROG_IES</th>\n",
       "      <th>IN_FIN_NAOREEMB_PROUNI_INTEGR</th>\n",
       "      <th>IN_FIN_NAOREEMB_PROUNI_PARCIAL</th>\n",
       "      <th>IN_FIN_NAOREEMB_ESTADUAL</th>\n",
       "      <th>IN_FIN_NAOREEMB_MUNICIPAL</th>\n",
       "      <th>IN_FIN_NAOREEMB_PROG_IES</th>\n",
       "      <th>IN_COMPLEMENTAR_PESQUISA</th>\n",
       "      <th>IN_BOLSA_PESQUISA</th>\n",
       "    </tr>\n",
       "  </thead>\n",
       "  <tbody>\n",
       "    <tr>\n",
       "      <th>0</th>\n",
       "      <td>0</td>\n",
       "      <td>1</td>\n",
       "      <td>1</td>\n",
       "      <td>1</td>\n",
       "      <td>1</td>\n",
       "      <td>NaN</td>\n",
       "      <td>3.0</td>\n",
       "      <td>1.0</td>\n",
       "      <td>1</td>\n",
       "      <td>2</td>\n",
       "      <td>...</td>\n",
       "      <td>NaN</td>\n",
       "      <td>NaN</td>\n",
       "      <td>NaN</td>\n",
       "      <td>NaN</td>\n",
       "      <td>NaN</td>\n",
       "      <td>NaN</td>\n",
       "      <td>NaN</td>\n",
       "      <td>NaN</td>\n",
       "      <td>0.0</td>\n",
       "      <td>NaN</td>\n",
       "    </tr>\n",
       "    <tr>\n",
       "      <th>1</th>\n",
       "      <td>1</td>\n",
       "      <td>1</td>\n",
       "      <td>1</td>\n",
       "      <td>1</td>\n",
       "      <td>1</td>\n",
       "      <td>NaN</td>\n",
       "      <td>3.0</td>\n",
       "      <td>1.0</td>\n",
       "      <td>1</td>\n",
       "      <td>3</td>\n",
       "      <td>...</td>\n",
       "      <td>NaN</td>\n",
       "      <td>NaN</td>\n",
       "      <td>NaN</td>\n",
       "      <td>NaN</td>\n",
       "      <td>NaN</td>\n",
       "      <td>NaN</td>\n",
       "      <td>NaN</td>\n",
       "      <td>NaN</td>\n",
       "      <td>NaN</td>\n",
       "      <td>NaN</td>\n",
       "    </tr>\n",
       "    <tr>\n",
       "      <th>2</th>\n",
       "      <td>2</td>\n",
       "      <td>1</td>\n",
       "      <td>1</td>\n",
       "      <td>1</td>\n",
       "      <td>1</td>\n",
       "      <td>NaN</td>\n",
       "      <td>3.0</td>\n",
       "      <td>1.0</td>\n",
       "      <td>1</td>\n",
       "      <td>2</td>\n",
       "      <td>...</td>\n",
       "      <td>NaN</td>\n",
       "      <td>NaN</td>\n",
       "      <td>NaN</td>\n",
       "      <td>NaN</td>\n",
       "      <td>NaN</td>\n",
       "      <td>NaN</td>\n",
       "      <td>NaN</td>\n",
       "      <td>NaN</td>\n",
       "      <td>NaN</td>\n",
       "      <td>NaN</td>\n",
       "    </tr>\n",
       "    <tr>\n",
       "      <th>3</th>\n",
       "      <td>3</td>\n",
       "      <td>1</td>\n",
       "      <td>1</td>\n",
       "      <td>1</td>\n",
       "      <td>1</td>\n",
       "      <td>NaN</td>\n",
       "      <td>3.0</td>\n",
       "      <td>1.0</td>\n",
       "      <td>1</td>\n",
       "      <td>3</td>\n",
       "      <td>...</td>\n",
       "      <td>NaN</td>\n",
       "      <td>NaN</td>\n",
       "      <td>NaN</td>\n",
       "      <td>NaN</td>\n",
       "      <td>NaN</td>\n",
       "      <td>NaN</td>\n",
       "      <td>NaN</td>\n",
       "      <td>NaN</td>\n",
       "      <td>NaN</td>\n",
       "      <td>NaN</td>\n",
       "    </tr>\n",
       "    <tr>\n",
       "      <th>4</th>\n",
       "      <td>4</td>\n",
       "      <td>1</td>\n",
       "      <td>1</td>\n",
       "      <td>1</td>\n",
       "      <td>1</td>\n",
       "      <td>NaN</td>\n",
       "      <td>3.0</td>\n",
       "      <td>1.0</td>\n",
       "      <td>1</td>\n",
       "      <td>2</td>\n",
       "      <td>...</td>\n",
       "      <td>NaN</td>\n",
       "      <td>NaN</td>\n",
       "      <td>NaN</td>\n",
       "      <td>NaN</td>\n",
       "      <td>NaN</td>\n",
       "      <td>NaN</td>\n",
       "      <td>NaN</td>\n",
       "      <td>NaN</td>\n",
       "      <td>NaN</td>\n",
       "      <td>NaN</td>\n",
       "    </tr>\n",
       "    <tr>\n",
       "      <th>...</th>\n",
       "      <td>...</td>\n",
       "      <td>...</td>\n",
       "      <td>...</td>\n",
       "      <td>...</td>\n",
       "      <td>...</td>\n",
       "      <td>...</td>\n",
       "      <td>...</td>\n",
       "      <td>...</td>\n",
       "      <td>...</td>\n",
       "      <td>...</td>\n",
       "      <td>...</td>\n",
       "      <td>...</td>\n",
       "      <td>...</td>\n",
       "      <td>...</td>\n",
       "      <td>...</td>\n",
       "      <td>...</td>\n",
       "      <td>...</td>\n",
       "      <td>...</td>\n",
       "      <td>...</td>\n",
       "      <td>...</td>\n",
       "      <td>...</td>\n",
       "    </tr>\n",
       "    <tr>\n",
       "      <th>12043676</th>\n",
       "      <td>12043676</td>\n",
       "      <td>23410</td>\n",
       "      <td>2</td>\n",
       "      <td>1</td>\n",
       "      <td>1404108</td>\n",
       "      <td>NaN</td>\n",
       "      <td>4.0</td>\n",
       "      <td>1.0</td>\n",
       "      <td>1</td>\n",
       "      <td>2</td>\n",
       "      <td>...</td>\n",
       "      <td>NaN</td>\n",
       "      <td>NaN</td>\n",
       "      <td>NaN</td>\n",
       "      <td>NaN</td>\n",
       "      <td>NaN</td>\n",
       "      <td>NaN</td>\n",
       "      <td>NaN</td>\n",
       "      <td>NaN</td>\n",
       "      <td>NaN</td>\n",
       "      <td>NaN</td>\n",
       "    </tr>\n",
       "    <tr>\n",
       "      <th>12043677</th>\n",
       "      <td>12043677</td>\n",
       "      <td>23410</td>\n",
       "      <td>2</td>\n",
       "      <td>1</td>\n",
       "      <td>1404108</td>\n",
       "      <td>NaN</td>\n",
       "      <td>4.0</td>\n",
       "      <td>1.0</td>\n",
       "      <td>1</td>\n",
       "      <td>2</td>\n",
       "      <td>...</td>\n",
       "      <td>NaN</td>\n",
       "      <td>NaN</td>\n",
       "      <td>NaN</td>\n",
       "      <td>NaN</td>\n",
       "      <td>NaN</td>\n",
       "      <td>NaN</td>\n",
       "      <td>NaN</td>\n",
       "      <td>NaN</td>\n",
       "      <td>NaN</td>\n",
       "      <td>NaN</td>\n",
       "    </tr>\n",
       "    <tr>\n",
       "      <th>12043678</th>\n",
       "      <td>12043678</td>\n",
       "      <td>23410</td>\n",
       "      <td>2</td>\n",
       "      <td>1</td>\n",
       "      <td>1404108</td>\n",
       "      <td>NaN</td>\n",
       "      <td>4.0</td>\n",
       "      <td>1.0</td>\n",
       "      <td>1</td>\n",
       "      <td>2</td>\n",
       "      <td>...</td>\n",
       "      <td>NaN</td>\n",
       "      <td>NaN</td>\n",
       "      <td>NaN</td>\n",
       "      <td>NaN</td>\n",
       "      <td>NaN</td>\n",
       "      <td>NaN</td>\n",
       "      <td>NaN</td>\n",
       "      <td>NaN</td>\n",
       "      <td>NaN</td>\n",
       "      <td>NaN</td>\n",
       "    </tr>\n",
       "    <tr>\n",
       "      <th>12043679</th>\n",
       "      <td>12043679</td>\n",
       "      <td>23410</td>\n",
       "      <td>2</td>\n",
       "      <td>1</td>\n",
       "      <td>1404108</td>\n",
       "      <td>NaN</td>\n",
       "      <td>4.0</td>\n",
       "      <td>1.0</td>\n",
       "      <td>1</td>\n",
       "      <td>2</td>\n",
       "      <td>...</td>\n",
       "      <td>NaN</td>\n",
       "      <td>NaN</td>\n",
       "      <td>NaN</td>\n",
       "      <td>NaN</td>\n",
       "      <td>NaN</td>\n",
       "      <td>NaN</td>\n",
       "      <td>NaN</td>\n",
       "      <td>NaN</td>\n",
       "      <td>NaN</td>\n",
       "      <td>NaN</td>\n",
       "    </tr>\n",
       "    <tr>\n",
       "      <th>12043680</th>\n",
       "      <td>12043680</td>\n",
       "      <td>23410</td>\n",
       "      <td>2</td>\n",
       "      <td>1</td>\n",
       "      <td>1404108</td>\n",
       "      <td>NaN</td>\n",
       "      <td>4.0</td>\n",
       "      <td>1.0</td>\n",
       "      <td>1</td>\n",
       "      <td>2</td>\n",
       "      <td>...</td>\n",
       "      <td>NaN</td>\n",
       "      <td>NaN</td>\n",
       "      <td>NaN</td>\n",
       "      <td>NaN</td>\n",
       "      <td>NaN</td>\n",
       "      <td>NaN</td>\n",
       "      <td>NaN</td>\n",
       "      <td>NaN</td>\n",
       "      <td>NaN</td>\n",
       "      <td>NaN</td>\n",
       "    </tr>\n",
       "  </tbody>\n",
       "</table>\n",
       "<p>7905378 rows × 24 columns</p>\n",
       "</div>"
      ],
      "text/plain": [
       "          Unnamed: 0  CO_IES  TP_CATEGORIA_ADMINISTRATIVA  \\\n",
       "0                  0       1                            1   \n",
       "1                  1       1                            1   \n",
       "2                  2       1                            1   \n",
       "3                  3       1                            1   \n",
       "4                  4       1                            1   \n",
       "...              ...     ...                          ...   \n",
       "12043676    12043676   23410                            2   \n",
       "12043677    12043677   23410                            2   \n",
       "12043678    12043678   23410                            2   \n",
       "12043679    12043679   23410                            2   \n",
       "12043680    12043680   23410                            2   \n",
       "\n",
       "          TP_ORGANIZACAO_ACADEMICA  CO_CURSO  CO_CURSO_POLO  TP_TURNO  \\\n",
       "0                                1         1            NaN       3.0   \n",
       "1                                1         1            NaN       3.0   \n",
       "2                                1         1            NaN       3.0   \n",
       "3                                1         1            NaN       3.0   \n",
       "4                                1         1            NaN       3.0   \n",
       "...                            ...       ...            ...       ...   \n",
       "12043676                         1   1404108            NaN       4.0   \n",
       "12043677                         1   1404108            NaN       4.0   \n",
       "12043678                         1   1404108            NaN       4.0   \n",
       "12043679                         1   1404108            NaN       4.0   \n",
       "12043680                         1   1404108            NaN       4.0   \n",
       "\n",
       "          TP_GRAU_ACADEMICO  TP_MODALIDADE_ENSINO  TP_SITUACAO  ...  \\\n",
       "0                       1.0                     1            2  ...   \n",
       "1                       1.0                     1            3  ...   \n",
       "2                       1.0                     1            2  ...   \n",
       "3                       1.0                     1            3  ...   \n",
       "4                       1.0                     1            2  ...   \n",
       "...                     ...                   ...          ...  ...   \n",
       "12043676                1.0                     1            2  ...   \n",
       "12043677                1.0                     1            2  ...   \n",
       "12043678                1.0                     1            2  ...   \n",
       "12043679                1.0                     1            2  ...   \n",
       "12043680                1.0                     1            2  ...   \n",
       "\n",
       "          IN_FIN_REEMB_ESTADUAL  IN_FIN_REEMB_MUNICIPAL  \\\n",
       "0                           NaN                     NaN   \n",
       "1                           NaN                     NaN   \n",
       "2                           NaN                     NaN   \n",
       "3                           NaN                     NaN   \n",
       "4                           NaN                     NaN   \n",
       "...                         ...                     ...   \n",
       "12043676                    NaN                     NaN   \n",
       "12043677                    NaN                     NaN   \n",
       "12043678                    NaN                     NaN   \n",
       "12043679                    NaN                     NaN   \n",
       "12043680                    NaN                     NaN   \n",
       "\n",
       "          IN_FIN_REEMB_PROG_IES  IN_FIN_NAOREEMB_PROUNI_INTEGR  \\\n",
       "0                           NaN                            NaN   \n",
       "1                           NaN                            NaN   \n",
       "2                           NaN                            NaN   \n",
       "3                           NaN                            NaN   \n",
       "4                           NaN                            NaN   \n",
       "...                         ...                            ...   \n",
       "12043676                    NaN                            NaN   \n",
       "12043677                    NaN                            NaN   \n",
       "12043678                    NaN                            NaN   \n",
       "12043679                    NaN                            NaN   \n",
       "12043680                    NaN                            NaN   \n",
       "\n",
       "          IN_FIN_NAOREEMB_PROUNI_PARCIAL  IN_FIN_NAOREEMB_ESTADUAL  \\\n",
       "0                                    NaN                       NaN   \n",
       "1                                    NaN                       NaN   \n",
       "2                                    NaN                       NaN   \n",
       "3                                    NaN                       NaN   \n",
       "4                                    NaN                       NaN   \n",
       "...                                  ...                       ...   \n",
       "12043676                             NaN                       NaN   \n",
       "12043677                             NaN                       NaN   \n",
       "12043678                             NaN                       NaN   \n",
       "12043679                             NaN                       NaN   \n",
       "12043680                             NaN                       NaN   \n",
       "\n",
       "          IN_FIN_NAOREEMB_MUNICIPAL  IN_FIN_NAOREEMB_PROG_IES  \\\n",
       "0                               NaN                       NaN   \n",
       "1                               NaN                       NaN   \n",
       "2                               NaN                       NaN   \n",
       "3                               NaN                       NaN   \n",
       "4                               NaN                       NaN   \n",
       "...                             ...                       ...   \n",
       "12043676                        NaN                       NaN   \n",
       "12043677                        NaN                       NaN   \n",
       "12043678                        NaN                       NaN   \n",
       "12043679                        NaN                       NaN   \n",
       "12043680                        NaN                       NaN   \n",
       "\n",
       "          IN_COMPLEMENTAR_PESQUISA  IN_BOLSA_PESQUISA  \n",
       "0                              0.0                NaN  \n",
       "1                              NaN                NaN  \n",
       "2                              NaN                NaN  \n",
       "3                              NaN                NaN  \n",
       "4                              NaN                NaN  \n",
       "...                            ...                ...  \n",
       "12043676                       NaN                NaN  \n",
       "12043677                       NaN                NaN  \n",
       "12043678                       NaN                NaN  \n",
       "12043679                       NaN                NaN  \n",
       "12043680                       NaN                NaN  \n",
       "\n",
       "[7905378 rows x 24 columns]"
      ]
     },
     "metadata": {},
     "output_type": "display_data"
    }
   ],
   "source": [
    "alunos_pres = alunos_df[alunos_df['TP_MODALIDADE_ENSINO'].isin([1])]\n",
    "alunos_pres_grad = alunos_pres[alunos_pres['TP_GRAU_ACADEMICO'].isin([1, 2, 4])]\n",
    "display(alunos_pres_grad)"
   ]
  },
  {
   "cell_type": "code",
   "execution_count": null,
   "metadata": {},
   "outputs": [],
   "source": [
    "#Verificando se os cursos técnicos foram removidos mesmo:\n",
    "alunos_ctec = alunos_pres_grad[['CO_IES', 'TP_GRAU_ACADEMICO']]\n",
    "ctec_count = alunos_ctec.value_counts()\n",
    "ctec_count.to_csv(r'C:\\Users\\jaff_\\Google Drive\\_Dissertação\\Dados Dissertação\\Python\\DM_ALUNO\\tec_counts.csv', sep=';', encoding='latin1')\n",
    "#Beleza! Separados."
   ]
  },
  {
   "cell_type": "code",
   "execution_count": 4,
   "metadata": {},
   "outputs": [],
   "source": [
    "#Separando apenas por IES e CONTANDO O NÚMERO DE ALUNOS/IES considerando apenas cursos PRESENCIAIS de graduação e licenciatura.\n",
    "alunos_ies = alunos_pres_grad['CO_IES']\n",
    "alunos_ies_count = alunos_ies.value_counts()"
   ]
  },
  {
   "cell_type": "code",
   "execution_count": 6,
   "metadata": {},
   "outputs": [],
   "source": [
    "alunos_ies_count.to_csv(r'C:\\Users\\jaff_\\Google Drive\\_Dissertação\\Dados Dissertação\\2018\\Python\\DM_ALUNO\\PRES_ALUNOS_counts.csv', sep=';', encoding='latin1')"
   ]
  },
  {
   "cell_type": "code",
   "execution_count": null,
   "metadata": {},
   "outputs": [],
   "source": [
    "#Separando apenas por IES e curso:\n",
    "alunos_cursos = alunos_pres_grad[['CO_IES', 'CO_CURSO']]\n",
    "alunos_cursos.info()\n",
    "display(alunos_cursos)"
   ]
  },
  {
   "cell_type": "code",
   "execution_count": null,
   "metadata": {},
   "outputs": [],
   "source": [
    "#Fazendo o valuecounts para saber quantos alunos cada curso de cada IES tem:\n",
    "alunos_cursos_count = alunos_cursos.value_counts()\n",
    "alunos_cursos_count.to_csv(r'C:\\Users\\jaff_\\Google Drive\\_Dissertação\\Dados Dissertação\\Python\\DM_ALUNO\\PRES_curso_counts.csv', sep=';', encoding='latin1')"
   ]
  },
  {
   "cell_type": "code",
   "execution_count": null,
   "metadata": {
    "scrolled": true
   },
   "outputs": [],
   "source": [
    "display(alunos_cursos_count)"
   ]
  },
  {
   "cell_type": "markdown",
   "metadata": {},
   "source": [
    "### MERCADO NACIONAL"
   ]
  },
  {
   "cell_type": "code",
   "execution_count": 4,
   "metadata": {},
   "outputs": [],
   "source": [
    "nacional = alunos_pres_grad[alunos_pres_grad['CO_IES'].isin([7, 8, 54, 56, 151, 194, 571, 575, 581, 585, 586, 591, 592, 602, 633, 717, 849, 905, 1161, 1382, 1851, 2126, 2128, 2129, 2397, 2591, 3614, 3758, 4847, 4925, 5048, 12754 , 13695, 15401])]"
   ]
  },
  {
   "cell_type": "code",
   "execution_count": null,
   "metadata": {},
   "outputs": [],
   "source": [
    "nacional.to_csv(r'C:\\Users\\jaff_\\Google Drive\\_Dissertação\\Dados Dissertação\\2018\\Python\\DM_ALUNO\\2018 alunos nacional', sep=';', encoding='latin1')"
   ]
  },
  {
   "cell_type": "markdown",
   "metadata": {},
   "source": [
    "### MERCADO SUDESTE"
   ]
  },
  {
   "cell_type": "code",
   "execution_count": 3,
   "metadata": {},
   "outputs": [],
   "source": [
    "SE = alunos_pres_grad[alunos_pres_grad['CO_IES'].isin([6, 7, 8, 17, 22, 30, 33, 54, 55, 56, 60, 77, 93, 107, 126, 135, 137, 149, 151, 171, 194, 195, 208, 213, 217, 224, 227, 265, 267, 271, 316, 338, 361, 373, 415, 431, 489, 490, 501, 528, 546, 547, 572, 573, 574, 575, 576, 586, 591, 592, 593, 594, 595, 596, 597, 598, 602, 633, 636, 664, 672, 693, 705, 752, 790, 802, 849, 878, 890, 905, 922, 923, 944, 952, 997, 1027, 1043, 1048, 1063, 1064, 1068, 1080, 1161, 1243, 1322, 1379, 1409, 1445, 1494, 1520, 1558, 1559, 1575, 1723, 1765, 1766, 1808, 1810, 1836, 1841, 1851, 1878, 1921, 1923, 1926, 1930, 1940, 1962, 2015, 2096, 2126, 2128, 2129, 2397, 2468, 2571, 2591, 2617, 2744, 2774, 2811, 2849, 3163, 3308, 3332, 3368, 3430, 3522, 3529, 3614, 3710, 3770, 3955, 4358, 4522, 4925, 4943, 5013, 5016, 5048, 5215, 5276, 5313, 5314, 5316, 5394, 10385, 11289, 13481, 13695, 14115, 14165, 14342, 15401, 15452, 15576, 15682, 15708, 15752, 15769, 15859, 16410, 16864, 17738, 19501, 19739])]"
   ]
  },
  {
   "cell_type": "code",
   "execution_count": 4,
   "metadata": {},
   "outputs": [],
   "source": [
    "SE.to_csv(r'C:\\Users\\jaff_\\Google Drive\\_Dissertação\\Dados Dissertação\\2018\\Python\\DM_ALUNO\\2018 alunos SE_NOVO.csv', sep=';', encoding='latin1')"
   ]
  },
  {
   "cell_type": "code",
   "execution_count": 5,
   "metadata": {},
   "outputs": [],
   "source": [
    "seCO = SE['CO_IES']\n",
    "sec = seCO.value_counts()\n",
    "sec.to_csv(r'C:\\Users\\jaff_\\Google Drive\\_Dissertação\\Dados Dissertação\\2018\\Python\\DM_ALUNO\\2018 SE_COUNTS.csv', sep=';', encoding='latin1')"
   ]
  },
  {
   "cell_type": "code",
   "execution_count": null,
   "metadata": {},
   "outputs": [],
   "source": [
    "#Fazendo dfs separados por Estado só pra conseguir organizar por Estado na tabela, já que no DM_ALUNO não tem info de estado da IES.\n",
    "#RIO DE JANEIRO\n",
    "alunos_SE_RJ = alunos_pres_grad[alunos_pres_grad['CO_IES'].isin([6, 8, 17, 30, 107, 126, 171, 338, 575, 576, 592, 594, 595, 596, 597, 598, 752, 849, 878, 890, 1068, 1558, 1575, 1923, 1926, 1940, 2015, 2096, 2849, 3368, 3430, 3522, 3955, 4358, 5276, 5313, 5316, 5394, 14115, 14165, 15452, 267, 501, 573, 664, 1063, 1064, 1243, 1379, 1409, 1494, 1559, 1766, 1808, 2397, 5314, 77, 194, 195, 489, 490, 528, 547, 572, 574, 586, 593, 633, 693, 705, 802, 944, 1027, 1080, 1851, 1962, 2126, 2468, 2571, 2591, ,2617, 3163, 3332, 3614, 3710, 5013, 5016, 13695, 14342, 17738, 7, 22, 33, 54, 56, 135, 137, 149, 151, 208, 213, 224, 227, 265, 271, 316, 361, 373, 415, 431, 546, 591, 602, 636, 672, 790, 905, 922, 923, 952, 997, 1043, 1048, 1161, 1322, 1445, 1520, 1723, 1765, 1810, 1836, 1841, 1878, 1921, 1930, 2128, 2129, 2744, 2774, 2811, 3308, 3529, 3770, 4522, 4925, 4943, 5048, 5215, 10385, 11289, 13481, 15401, 15576, 15682, 15708, 15752, 15769, 15859, 16410, 16864, 19501, 19739])\n",
    "alunos_SE_RJ.info()\n",
    "#238354 alunos no Estado do Rio"
   ]
  },
  {
   "cell_type": "code",
   "execution_count": null,
   "metadata": {},
   "outputs": [],
   "source": [
    "alunos_SE_RJ.to_csv(r'C:\\Users\\jaff_\\Google Drive\\_Dissertação\\Dados Dissertação\\Python\\DM_ALUNO\\2018_SE_RJ.csv', sep=';', encoding='latin1')"
   ]
  },
  {
   "cell_type": "code",
   "execution_count": null,
   "metadata": {},
   "outputs": [],
   "source": [
    "alunos_SE_RJ_count = alunos_SE_RJ['CO_IES'].value_counts()\n",
    "alunos_SE_RJ_count.to_csv(r'C:\\Users\\jaff_\\Google Drive\\_Dissertação\\Dados Dissertação\\Python\\DM_ALUNO\\2018_SE_RJ_NUMERO.csv', sep=';', encoding='latin1')"
   ]
  },
  {
   "cell_type": "code",
   "execution_count": null,
   "metadata": {
    "scrolled": true
   },
   "outputs": [],
   "source": [
    "#SÃO PAULO\n",
    "alunos_SE_SP = alunos_pres_grad[alunos_pres_grad['CO_IES'].isin([151, 2128, 2129, 56, 591, 1161, 5048, 15401, 905, 54, 602, 4925, 7, 22, 33, 60, 93, 135, 137, 149, 208, 213, 217, 224, 227, 265, 271, 316, 361, 373, 415, 431, 546, 636, 672, 790, 845, 922, 923, 952, 997, 1043, 1048, 1322, 1445, 1520, 1723, 1765, 1810, 1836, 1841, 1878, 1921, 1930, 2744, 2774, 2811, 3308, 3529, 3770, 4522, 4943, 5215, 10385, 11289, 13481, 15576, 15682, 15708, 15752, 15769, 15859, 16410, 16864, 19501, 19739])]\n",
    "alunos_SE_SP.info()\n",
    "alunos_SE_SP.to_csv(r'C:\\Users\\jaff_\\Google Drive\\_Dissertação\\Dados Dissertação\\Python\\DM_ALUNO\\2018_SE_SP.csv', sep=';', encoding='latin1')\n",
    "# 467886 alunos no Estado de SP"
   ]
  },
  {
   "cell_type": "code",
   "execution_count": null,
   "metadata": {},
   "outputs": [],
   "source": [
    "SESP_count = alunos_SE_SP['CO_IES'].value_counts()\n",
    "SESP_count.to_csv(r'C:\\Users\\jaff_\\Google Drive\\_Dissertação\\Dados Dissertação\\Python\\DM_ALUNO\\2018_SE_SP_NUMERO.csv', sep=';', encoding='latin1')"
   ]
  },
  {
   "cell_type": "code",
   "execution_count": null,
   "metadata": {
    "scrolled": false
   },
   "outputs": [],
   "source": [
    "#MINAS GERAIS\n",
    "alunos_SE_MG = alunos_pres_grad[alunos_pres_grad['CO_IES'].isin([6, 17, 575, 8, 592, 30, 107, 126, 171, 338, 576, 594, 595, 596, 597, 598, 752, 878, 890, 1068, 1558, 1575, 1940, 2015, 2096, 2849, 3368, 3430, 3522, 3955, 4358, 5276, 5313, 5316, 5394, 14115, 14165])\n",
    "alunos_SE_MG.info()\n",
    "alunos_SE_MG.to_csv(r'C:\\Users\\jaff_\\Google Drive\\_Dissertação\\Dados Dissertação\\Python\\DM_ALUNO\\2018_SE_MG.csv', sep=';', encoding='latin1')\n",
    "#263845 alunos em MG"
   ]
  },
  {
   "cell_type": "code",
   "execution_count": null,
   "metadata": {},
   "outputs": [],
   "source": [
    "SEMG_count = alunos_SE_MG['CO_IES'].value_counts()\n",
    "SEMG_count.to_csv(r'C:\\Users\\jaff_\\Google Drive\\_Dissertação\\Dados Dissertação\\Python\\DM_ALUNO\\2018_SE_MG_NUMERO.csv', sep=';', encoding='latin1')"
   ]
  },
  {
   "cell_type": "code",
   "execution_count": null,
   "metadata": {
    "scrolled": true
   },
   "outputs": [],
   "source": [
    "#ESPÍRITO SANTO\n",
    "alunos_SE_ES = alunos_pres_grad[alunos_pres_grad['CO_IES'].isin([267, 501, 573, 664, 1063, 1064, 1243, 1379, 1494, 1559, 1766, 1808, 5314])]\n",
    "alunos_SE_ES.info()\n",
    "alunos_SE_ES.to_csv(r'C:\\Users\\jaff_\\Google Drive\\_Dissertação\\Dados Dissertação\\Python\\DM_ALUNO\\2018_SE_ES.csv', sep=';', encoding='latin1')\n",
    "#68736 alunos no ES"
   ]
  },
  {
   "cell_type": "code",
   "execution_count": null,
   "metadata": {},
   "outputs": [],
   "source": [
    "SEES_count = alunos_SE_ES['CO_IES'].value_counts()\n",
    "SEES_count.to_csv(r'C:\\Users\\jaff_\\Google Drive\\_Dissertação\\Dados Dissertação\\Python\\DM_ALUNO\\2018_SE_ES_NUMERO.csv', sep=';', encoding='latin1')"
   ]
  },
  {
   "cell_type": "markdown",
   "metadata": {},
   "source": [
    "### SITUAÇÃO DE MATRÍCULA E BOLSAS DE PESQUISA"
   ]
  },
  {
   "cell_type": "code",
   "execution_count": 6,
   "metadata": {},
   "outputs": [],
   "source": [
    "sit = SE[['CO_IES', 'TP_SITUACAO']]\n",
    "bolsas = SE[['CO_IES', 'IN_BOLSA_PESQUISA']]"
   ]
  },
  {
   "cell_type": "code",
   "execution_count": 14,
   "metadata": {},
   "outputs": [],
   "source": [
    "sit.to_csv(r'C:\\Users\\jaff_\\Google Drive\\_Dissertação\\Dados Dissertação\\2018\\Python\\DM_ALUNO\\2018_situação matrícula.csv', sep=';', encoding='latin1')"
   ]
  },
  {
   "cell_type": "code",
   "execution_count": 9,
   "metadata": {},
   "outputs": [],
   "source": [
    "bolsas.to_csv(r'C:\\Users\\jaff_\\Google Drive\\_Dissertação\\Dados Dissertação\\2018\\Python\\DM_ALUNO\\2018_bolsas pesquisa.csv', sep=';', encoding='latin1')"
   ]
  },
  {
   "cell_type": "code",
   "execution_count": 13,
   "metadata": {},
   "outputs": [],
   "source": [
    "bolsasUSP = bolsas[bolsas['CO_IES'].isin([55])]\n",
    "bolsasUSP.to_csv(r'C:\\Users\\jaff_\\Google Drive\\_Dissertação\\Dados Dissertação\\2018\\Python\\DM_ALUNO\\2018_bolsasUSP.csv', sep=';', encoding='latin1')"
   ]
  },
  {
   "cell_type": "markdown",
   "metadata": {},
   "source": [
    "### PANORAMA GERAL: Calculando algumas estatísticas descritivas"
   ]
  },
  {
   "cell_type": "code",
   "execution_count": null,
   "metadata": {},
   "outputs": [],
   "source": [
    "alunos_cat = alunos_df['TP_CATEGORIA_ADMINISTRATIVA'].value_counts()\n",
    "display(alunos_cat)"
   ]
  },
  {
   "cell_type": "code",
   "execution_count": null,
   "metadata": {},
   "outputs": [],
   "source": [
    "alunos_org = alunos_df['TP_ORGANIZACAO_ACADEMICA'].value_counts()\n",
    "display(alunos_org)"
   ]
  },
  {
   "cell_type": "code",
   "execution_count": null,
   "metadata": {
    "scrolled": true
   },
   "outputs": [],
   "source": [
    "alunos_cursos = alunos_df['CO_CURSO'].value_counts()\n",
    "display(alunos_cursos)\n",
    "alunos_cursos.to_csv(r'C:\\Users\\jaff_\\Google Drive\\_Dissertação\\Dados Dissertação\\Python\\DM_ALUNO\\alunos_cursos.csv', sep=';', encoding='latin1')"
   ]
  },
  {
   "cell_type": "code",
   "execution_count": null,
   "metadata": {},
   "outputs": [],
   "source": [
    "alunos_cursoPolo = alunos_df['CO_CURSO_POLO'].value_counts()\n",
    "display(alunos_cursoPolo)"
   ]
  },
  {
   "cell_type": "code",
   "execution_count": null,
   "metadata": {},
   "outputs": [],
   "source": [
    "alunos_grau = alunos_df['TP_GRAU_ACADEMICO'].value_counts()\n",
    "display(alunos_grau)"
   ]
  },
  {
   "cell_type": "code",
   "execution_count": null,
   "metadata": {},
   "outputs": [],
   "source": [
    "alunos_mod = alunos_df['TP_MODALIDADE_ENSINO'].value_counts()\n",
    "display(alunos_mod)"
   ]
  },
  {
   "cell_type": "code",
   "execution_count": null,
   "metadata": {},
   "outputs": [],
   "source": [
    "alunos_vest = alunos_df['IN_INGRESSO_VESTIBULAR'].value_counts()\n",
    "display(alunos_vest)"
   ]
  },
  {
   "cell_type": "code",
   "execution_count": null,
   "metadata": {},
   "outputs": [],
   "source": [
    "alunos_enem = alunos_df['IN_INGRESSO_ENEM'].value_counts()\n",
    "display(alunos_enem)"
   ]
  },
  {
   "cell_type": "code",
   "execution_count": null,
   "metadata": {
    "scrolled": true
   },
   "outputs": [],
   "source": [
    "alunos_fin = alunos_df['IN_FINANCIAMENTO_ESTUDANTIL'].value_counts()\n",
    "display(alunos_fin)"
   ]
  },
  {
   "cell_type": "code",
   "execution_count": null,
   "metadata": {
    "scrolled": false
   },
   "outputs": [],
   "source": [
    "alunos_fies = alunos_df['IN_FIN_REEMB_FIES'].value_counts()\n",
    "display(alunos_fies)"
   ]
  },
  {
   "cell_type": "code",
   "execution_count": null,
   "metadata": {},
   "outputs": [],
   "source": [
    "alunos_fin_est = alunos_df['IN_FIN_REEMB_ESTADUAL'].value_counts()\n",
    "display(alunos_fin_est)"
   ]
  },
  {
   "cell_type": "code",
   "execution_count": null,
   "metadata": {},
   "outputs": [],
   "source": [
    "alunos_fin_mun = alunos_df['IN_FIN_REEMB_MUNICIPAL'].value_counts()\n",
    "display(alunos_fin_mun)"
   ]
  },
  {
   "cell_type": "code",
   "execution_count": null,
   "metadata": {
    "scrolled": true
   },
   "outputs": [],
   "source": [
    "alunos_finIES = alunos_df['IN_FIN_NAOREEMB_PROG_IES'].value_counts()\n",
    "display(alunos_finIES)"
   ]
  },
  {
   "cell_type": "code",
   "execution_count": null,
   "metadata": {},
   "outputs": [],
   "source": [
    "alunos_fin_NIES = alunos_df['IN_FIN_REEMB_PROG_IES'].value_counts()\n",
    "display(alunos_fin_NIES)"
   ]
  },
  {
   "cell_type": "code",
   "execution_count": null,
   "metadata": {
    "scrolled": true
   },
   "outputs": [],
   "source": [
    "alunos_prouniI = alunos_df['IN_FIN_NAOREEMB_PROUNI_INTEGR'].value_counts()\n",
    "display(alunos_prouniI)"
   ]
  },
  {
   "cell_type": "code",
   "execution_count": null,
   "metadata": {
    "scrolled": false
   },
   "outputs": [],
   "source": [
    "alunos_prouniP = alunos_df['IN_FIN_NAOREEMB_PROUNI_PARCIAL'].value_counts()\n",
    "display(alunos_prouniP)"
   ]
  },
  {
   "cell_type": "code",
   "execution_count": null,
   "metadata": {},
   "outputs": [],
   "source": [
    "alunos_fin_Nest = alunos_df['IN_FIN_NAOREEMB_ESTADUAL'].value_counts()\n",
    "display(alunos_fin_Nest)"
   ]
  },
  {
   "cell_type": "code",
   "execution_count": null,
   "metadata": {
    "scrolled": false
   },
   "outputs": [],
   "source": [
    "alunos_fin_Nmun = alunos_df['IN_FIN_NAOREEMB_MUNICIPAL'].value_counts()\n",
    "display(alunos_fin_Nmun)"
   ]
  }
 ],
 "metadata": {
  "kernelspec": {
   "display_name": "Python 3",
   "language": "python",
   "name": "python3"
  },
  "language_info": {
   "codemirror_mode": {
    "name": "ipython",
    "version": 3
   },
   "file_extension": ".py",
   "mimetype": "text/x-python",
   "name": "python",
   "nbconvert_exporter": "python",
   "pygments_lexer": "ipython3",
   "version": "3.8.5"
  }
 },
 "nbformat": 4,
 "nbformat_minor": 4
}
